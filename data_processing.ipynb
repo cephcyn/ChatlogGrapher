{
 "cells": [
  {
   "cell_type": "code",
   "execution_count": null,
   "metadata": {},
   "outputs": [],
   "source": [
    "import os\n",
    "import pickle\n",
    "\n",
    "# check what data sources we have\n",
    "# Working data sources:\n",
    "#  - Facebook data dump in JSON format (the whole folder named 'facebook-YourName12345' in data/)\n",
    "#  - Discord GDPR request data (TODO implement this!!!!!)\n",
    "dirs = os.listdir('data')"
   ]
  },
  {
   "cell_type": "code",
   "execution_count": null,
   "metadata": {},
   "outputs": [],
   "source": [
    "import json\n",
    "\n",
    "# load in saved aliases\n",
    "with open('aliases.json') as f:\n",
    "    alias = json.load(f)\n",
    "    \n",
    "# set who \"me\" is for all this data\n",
    "me = 'cephcyn'\n",
    "\n",
    "# translate from datasource name to unaliased name (if available)\n",
    "def un_alias(name):\n",
    "    if name in alias.keys():\n",
    "        return alias[name]\n",
    "    else:\n",
    "        return name"
   ]
  },
  {
   "cell_type": "code",
   "execution_count": null,
   "metadata": {},
   "outputs": [],
   "source": [
    "# initialize data formats\n",
    "from collections import namedtuple\n",
    "\n",
    "Message = namedtuple('Message', ['person', 'sent_by_me', 'char_count', 'timestamp'])"
   ]
  },
  {
   "cell_type": "code",
   "execution_count": null,
   "metadata": {},
   "outputs": [],
   "source": [
    "# read Facebook Messenger data into custom format\n",
    "import re\n",
    "import json\n",
    "from datetime import datetime\n",
    "\n",
    "fb_dir_name_rx = re.compile(\"^facebook-.*$\")\n",
    "json_rx = re.compile(\"^.*\\.json$\")\n",
    "\n",
    "def parse_msg(msg_data):\n",
    "    if len(msg_data['participants']) != 2:\n",
    "        # TODO add support for group chat data someday?\n",
    "        return []\n",
    "    \n",
    "    # Sanity check that I'm in the chat\n",
    "    # also get the name of the person I'm talking with\n",
    "    participants = [un_alias(p['name']) for p in msg_data['participants']]\n",
    "    if (participants[0] == me):\n",
    "        conversant = participants[1]\n",
    "    elif (participants[1] == me):\n",
    "        conversant = participants[0]\n",
    "    else:\n",
    "        print('\\'me\\' not found in chat, add alias?')\n",
    "        print('Participants:', msg_data['participants'])\n",
    "        return []\n",
    "    \n",
    "    # Exclude the conversant if null (alias file says to remove them)\n",
    "    if conversant is None:\n",
    "        return []\n",
    "    \n",
    "    # Parse the chat log into a list of tuples\n",
    "    log = []\n",
    "    for msg in msg_data['messages']:\n",
    "        # note that Facebook saves timestamp_MS not S\n",
    "        msg['sender_name'] = un_alias(msg['sender_name'])\n",
    "        ms = msg['timestamp_ms']\n",
    "        try:\n",
    "            msg_tuple = Message(\n",
    "                conversant, \n",
    "                msg['sender_name'] == me, \n",
    "                len(msg['content']),\n",
    "                datetime.utcfromtimestamp(ms//1000).replace(microsecond=ms%1000*1000))\n",
    "        except:\n",
    "            # if there's no content, assume it's a sticker or photo or video or whatever\n",
    "            msg_tuple = Message(\n",
    "                conversant, \n",
    "                msg['sender_name'] == me, \n",
    "                1,\n",
    "                datetime.utcfromtimestamp(ms//1000).replace(microsecond=ms%1000*1000))\n",
    "        log.append(msg_tuple)\n",
    "    return log\n",
    "\n",
    "def parse_dir(fb_dir_name, msg_type_dir):\n",
    "    log = []\n",
    "    for chat_name in os.listdir(f'data/{fb_dir_name}/messages/{msg_type_dir}'):\n",
    "        for chat_fname in os.listdir(f'data/{fb_dir_name}/messages/{msg_type_dir}/{chat_name}'):\n",
    "            if json_rx.match(chat_fname):\n",
    "                with open(f'data/{fb_dir_name}/messages/{msg_type_dir}/{chat_name}/{chat_fname}') as f:\n",
    "                    msg_data = json.load(f)\n",
    "                    log = log + parse_msg(msg_data)\n",
    "    return log\n",
    "\n",
    "log = []\n",
    "\n",
    "for fb_dir_name in dirs:\n",
    "    if fb_dir_name_rx.match(fb_dir_name):\n",
    "        msg_dir = os.listdir(f'data/{fb_dir_name}/messages')\n",
    "        for msg_type_dir in ['inbox', 'archived_threads']:\n",
    "            if msg_type_dir in msg_dir:\n",
    "                log = log + parse_dir(fb_dir_name, msg_type_dir)\n",
    "\n",
    "# Save log with Facebook data to disk\n",
    "with open('dumps/msgs.pickle', 'wb') as handle:\n",
    "    pickle.dump(log, handle, protocol=pickle.HIGHEST_PROTOCOL)"
   ]
  },
  {
   "cell_type": "code",
   "execution_count": null,
   "metadata": {},
   "outputs": [],
   "source": [
    "# read Discord data into custom format\n",
    "# TODO"
   ]
  },
  {
   "cell_type": "code",
   "execution_count": null,
   "metadata": {},
   "outputs": [],
   "source": [
    "import pickle\n",
    "\n",
    "# Load the data!\n",
    "with open('dumps/msgs.pickle', 'rb') as handle:\n",
    "    messages = pickle.load(handle)\n",
    "print(\"Total Messages:\", len(messages))"
   ]
  },
  {
   "cell_type": "code",
   "execution_count": null,
   "metadata": {},
   "outputs": [],
   "source": [
    "from datetime import datetime\n",
    "import numpy as np\n",
    "\n",
    "msgs_by_day = {} # msgs[name] = [] * n_days, populated with message counts\n",
    "\n",
    "start_date = datetime.strptime('1/1/13', \"%m/%d/%y\")\n",
    "end_date = datetime.strptime('06/15/20', \"%m/%d/%y\")\n",
    "delta = (end_date - start_date).days\n",
    "\n",
    "for msg in messages:\n",
    "    if msg.person in msgs_by_day.keys():\n",
    "        if start_date < msg.timestamp < end_date:\n",
    "                idx = (msg.timestamp - start_date).days\n",
    "                msgs_by_day[msg.person][idx] += 1\n",
    "    else:\n",
    "        msgs_by_day[msg.person] = [0] * delta"
   ]
  },
  {
   "cell_type": "code",
   "execution_count": null,
   "metadata": {},
   "outputs": [],
   "source": [
    "from collections import OrderedDict\n",
    "import pandas as pd\n",
    "\n",
    "msgs_by_day = OrderedDict(sorted(msgs_by_day.items(), key=lambda i: -sum(i[1])))\n",
    "data = pd.DataFrame(msgs_by_day, index=pd.date_range(start_date, periods=delta))"
   ]
  },
  {
   "cell_type": "code",
   "execution_count": null,
   "metadata": {},
   "outputs": [],
   "source": [
    "from matplotlib import pyplot as plt\n",
    "\n",
    "def numTalkedToPlot(data, min_messages=1, rolling_window=1):\n",
    "    talkedTo = data[ min_messages < data ]\n",
    "    talkedTo = ~pd.isnull(talkedTo)\n",
    "    toPlot = talkedTo.iloc[:,:].sum(axis=1)\n",
    "    return toPlot.rolling(rolling_window).mean()\n",
    "\n",
    "plt.clf()\n",
    "toPlot = numTalkedToPlot(data)\n",
    "ax = toPlot.plot(title=\"Number of People Talked to\", figsize=(10,3))\n",
    "ax.set_ylabel(\"Number of People\")\n",
    "fig = ax.get_figure()"
   ]
  },
  {
   "cell_type": "code",
   "execution_count": null,
   "metadata": {},
   "outputs": [],
   "source": [
    "from matplotlib import pyplot as plt\n",
    "\n",
    "def everyonePlot(data, rolling_window=1):\n",
    "    sum_data = data.iloc[:,:].sum(axis=1)\n",
    "    return sum_data.rolling(rolling_window).mean()\n",
    "\n",
    "plt.clf()\n",
    "toPlot = everyonePlot(data, rolling_window=1)\n",
    "ax = toPlot.plot(title=\"Messaging Data\")\n",
    "ax.set_ylabel(\"Number of Messages\")\n",
    "ax.set_xlabel(\"Date\")\n",
    "ax.set_ylim((0, toPlot.max()*1.1))\n",
    "fig = ax.get_figure()"
   ]
  },
  {
   "cell_type": "code",
   "execution_count": null,
   "metadata": {},
   "outputs": [],
   "source": [
    "def cumMsgPlot(data, start, end):\n",
    "    data = data.copy().cumsum(axis=0)\n",
    "    data = data.iloc[:, start:end]\n",
    "    return data\n",
    "\n",
    "plt.clf()\n",
    "toPlot = cumMsgPlot(data, start=0, end=6)\n",
    "ax = toPlot.plot(title=\"Cumulative Messaging Data (Top 6 Most Talked To)\", legend=True, figsize=(10,7))\n",
    "ax.set_ylabel(\"Cumulative Number of Messages\")\n",
    "ax.set_xlabel(\"Date\")\n",
    "plt.legend(loc='center left', bbox_to_anchor=(1.0, 0.5))\n",
    "fig = ax.get_figure()"
   ]
  },
  {
   "cell_type": "code",
   "execution_count": null,
   "metadata": {},
   "outputs": [],
   "source": [
    "messages_in_range = filter(lambda x: start_date < x.timestamp.replace(tzinfo=None) < end_date, messages)\n",
    "\n",
    "df = pd.DataFrame(list(messages_in_range), columns=Message._fields)\n",
    "df = df[[\"person\", \"sent_by_me\"]]\n",
    "df.columns = [\"person\", \"sent\"]\n",
    "\n",
    "df['received'] = pd.Series(~df[\"sent\"], index=df.index)\n",
    "df['total'] = df['sent'] | df['received']\n",
    "\n",
    "grouped = df.groupby('person')\n",
    "sent_received = grouped.sum().sort_values('total', ascending=False)\n",
    "toPlot = sent_received[[\"sent\", \"received\"]].ix[:15, :]\n",
    "\n",
    "ax = toPlot.plot.bar(title=\"Total Messages Sent/Received (Top 15 Most Talked To)\", stacked=True, color=('b', 'r'), figsize=(10, 5))\n",
    "ax.set_ylabel(\"Number of Messages\")\n",
    "ax.set_xlabel(\"Person\")\n",
    "\n",
    "fig = ax.get_figure()"
   ]
  },
  {
   "cell_type": "code",
   "execution_count": null,
   "metadata": {},
   "outputs": [],
   "source": []
  }
 ],
 "metadata": {
  "kernelspec": {
   "display_name": "Python 3",
   "language": "python",
   "name": "python3"
  },
  "language_info": {
   "codemirror_mode": {
    "name": "ipython",
    "version": 3
   },
   "file_extension": ".py",
   "mimetype": "text/x-python",
   "name": "python",
   "nbconvert_exporter": "python",
   "pygments_lexer": "ipython3",
   "version": "3.8.2"
  }
 },
 "nbformat": 4,
 "nbformat_minor": 4
}
